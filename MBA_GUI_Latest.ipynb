{
 "cells": [
  {
   "cell_type": "code",
   "execution_count": 2,
   "id": "6fae23e8",
   "metadata": {},
   "outputs": [
    {
     "name": "stdout",
     "output_type": "stream",
     "text": [
      "Collecting mlxtend\n",
      "  Downloading mlxtend-0.19.0-py2.py3-none-any.whl (1.3 MB)\n",
      "Requirement already satisfied: setuptools in c:\\users\\shobi\\anaconda3\\lib\\site-packages (from mlxtend) (52.0.0.post20210125)\n",
      "Requirement already satisfied: matplotlib>=3.0.0 in c:\\users\\shobi\\anaconda3\\lib\\site-packages (from mlxtend) (3.3.4)\n",
      "Requirement already satisfied: scikit-learn>=0.20.3 in c:\\users\\shobi\\anaconda3\\lib\\site-packages (from mlxtend) (0.24.1)\n",
      "Requirement already satisfied: scipy>=1.2.1 in c:\\users\\shobi\\anaconda3\\lib\\site-packages (from mlxtend) (1.6.2)\n",
      "Requirement already satisfied: pandas>=0.24.2 in c:\\users\\shobi\\anaconda3\\lib\\site-packages (from mlxtend) (1.2.4)\n",
      "Requirement already satisfied: joblib>=0.13.2 in c:\\users\\shobi\\anaconda3\\lib\\site-packages (from mlxtend) (1.0.1)\n",
      "Requirement already satisfied: numpy>=1.16.2 in c:\\users\\shobi\\anaconda3\\lib\\site-packages (from mlxtend) (1.20.1)\n",
      "Requirement already satisfied: pillow>=6.2.0 in c:\\users\\shobi\\anaconda3\\lib\\site-packages (from matplotlib>=3.0.0->mlxtend) (8.2.0)\n",
      "Requirement already satisfied: cycler>=0.10 in c:\\users\\shobi\\anaconda3\\lib\\site-packages (from matplotlib>=3.0.0->mlxtend) (0.10.0)\n",
      "Requirement already satisfied: python-dateutil>=2.1 in c:\\users\\shobi\\anaconda3\\lib\\site-packages (from matplotlib>=3.0.0->mlxtend) (2.8.1)\n",
      "Requirement already satisfied: pyparsing!=2.0.4,!=2.1.2,!=2.1.6,>=2.0.3 in c:\\users\\shobi\\anaconda3\\lib\\site-packages (from matplotlib>=3.0.0->mlxtend) (2.4.7)\n",
      "Requirement already satisfied: kiwisolver>=1.0.1 in c:\\users\\shobi\\anaconda3\\lib\\site-packages (from matplotlib>=3.0.0->mlxtend) (1.3.1)\n",
      "Requirement already satisfied: six in c:\\users\\shobi\\anaconda3\\lib\\site-packages (from cycler>=0.10->matplotlib>=3.0.0->mlxtend) (1.15.0)\n",
      "Requirement already satisfied: pytz>=2017.3 in c:\\users\\shobi\\anaconda3\\lib\\site-packages (from pandas>=0.24.2->mlxtend) (2021.1)\n",
      "Requirement already satisfied: threadpoolctl>=2.0.0 in c:\\users\\shobi\\anaconda3\\lib\\site-packages (from scikit-learn>=0.20.3->mlxtend) (2.1.0)\n",
      "Installing collected packages: mlxtend\n",
      "Successfully installed mlxtend-0.19.0\n"
     ]
    }
   ],
   "source": [
    "!pip install mlxtend"
   ]
  },
  {
   "cell_type": "code",
   "execution_count": 3,
   "id": "6351ab60",
   "metadata": {},
   "outputs": [
    {
     "name": "stderr",
     "output_type": "stream",
     "text": [
      "<ipython-input-3-38527d8ee892>:52: DtypeWarning: Columns (8) have mixed types.Specify dtype option on import or set low_memory=False.\n",
      "  win.mainloop()\n"
     ]
    },
    {
     "name": "stdout",
     "output_type": "stream",
     "text": [
      "                           antecedents                          consequents  \\\n",
      "0  (WOODEN PICTURE FRAME WHITE FINISH)         (WOODEN FRAME ANTIQUE WHITE)   \n",
      "1         (WOODEN FRAME ANTIQUE WHITE)  (WOODEN PICTURE FRAME WHITE FINISH)   \n",
      "2     (STRAWBERRY CERAMIC TRINKET BOX)     (SWEETHEART CERAMIC TRINKET BOX)   \n",
      "3     (SWEETHEART CERAMIC TRINKET BOX)     (STRAWBERRY CERAMIC TRINKET BOX)   \n",
      "4              (HEART OF WICKER SMALL)              (HEART OF WICKER LARGE)   \n",
      "\n",
      "   antecedent support  consequent support   support  confidence       lift  \\\n",
      "0            0.052644            0.063633  0.034060    0.646995  10.167642   \n",
      "1            0.063633            0.052644  0.034060    0.535262  10.167642   \n",
      "2            0.088545            0.054945  0.043553    0.491878   8.952177   \n",
      "3            0.054945            0.088545  0.043553    0.792670   8.952177   \n",
      "4            0.057764            0.062194  0.031414    0.543825   8.743957   \n",
      "\n",
      "   leverage  conviction  \n",
      "0  0.030710    2.652558  \n",
      "1  0.030710    2.038475  \n",
      "2  0.038688    1.859897  \n",
      "3  0.038688    4.396159  \n",
      "4  0.027821    2.055801  \n"
     ]
    }
   ],
   "source": [
    "from tkinter import *\n",
    "from tkinter import ttk, filedialog\n",
    "from tkinter.filedialog import askopenfile\n",
    "from tkinter import messagebox \n",
    "import numpy as np \n",
    "import pandas as pd \n",
    "from mlxtend.frequent_patterns import apriori\n",
    "from mlxtend.frequent_patterns import association_rules\n",
    "\n",
    "# Create an instance of tkinter frame\n",
    "win = Tk()\n",
    "\n",
    "# Set the geometry of tkinter frame\n",
    "win.geometry(\"700x350\")\n",
    "\n",
    "def open_file():\n",
    "   file = filedialog.askopenfile(mode='r', filetypes=[('All Files', '*.csv')])\n",
    "   if file:   \n",
    "      data = pd.read_csv(file)\n",
    "      data['Description'] = data['Description'].str.strip()\n",
    "      data.dropna(axis=0, subset=['Invoice'], inplace=True)\n",
    "      data['Invoice'] = data['Invoice'].astype('str')\n",
    "      data = data[~data['Invoice'].str.contains('C')]\n",
    "      data_plus=data[data[\"Quantity\"]>=0]\n",
    "      basket = (data[data['Country'] ==\"United_Kingdom\"]\n",
    "          .groupby(['Invoice', 'Description'])['Quantity']\n",
    "          .sum().unstack().reset_index().fillna(0)\n",
    "          .set_index('Invoice'))\n",
    "      def encode_units(x):\n",
    "          if x <= 0:\n",
    "              return 0\n",
    "          if x >= 1:\n",
    "              return 1\n",
    "      basket_sets = basket.applymap(encode_units)\n",
    "      basket_filter=basket_sets[(basket_sets > 0).sum(axis=1) >=2]\n",
    "      frq_sets=apriori(basket_filter, min_support=0.03, \n",
    "                 use_colnames=True).sort_values('support',ascending=False).reset_index(drop=True)\n",
    "      frq_sets['length']=frq_sets['itemsets'].apply(lambda x: len(x))\n",
    "      rules=association_rules(frq_sets, metric='lift', min_threshold=1).sort_values('lift',ascending=False).reset_index(drop=True)\n",
    "      result=rules.head()\n",
    "      print(result)\n",
    "      file.close()\n",
    "       \n",
    "\n",
    "# Add a Label widget\n",
    "label = Label(win, text=\"Click the Button to browse the Files\", font=('Georgia 13'))\n",
    "label.pack(pady=10)\n",
    "# Create a Button\n",
    "ttk.Button(win, text=\"Browse\", command=open_file).pack(pady=20)\n",
    "\n",
    "\n",
    "win.mainloop()"
   ]
  },
  {
   "cell_type": "code",
   "execution_count": null,
   "id": "8613bbf0",
   "metadata": {},
   "outputs": [],
   "source": []
  }
 ],
 "metadata": {
  "kernelspec": {
   "display_name": "Python 3",
   "language": "python",
   "name": "python3"
  },
  "language_info": {
   "codemirror_mode": {
    "name": "ipython",
    "version": 3
   },
   "file_extension": ".py",
   "mimetype": "text/x-python",
   "name": "python",
   "nbconvert_exporter": "python",
   "pygments_lexer": "ipython3",
   "version": "3.8.8"
  }
 },
 "nbformat": 4,
 "nbformat_minor": 5
}
